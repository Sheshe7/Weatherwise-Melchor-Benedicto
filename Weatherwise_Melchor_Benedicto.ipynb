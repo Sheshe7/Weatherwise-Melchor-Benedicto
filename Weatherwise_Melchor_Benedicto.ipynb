{
  "cells": [
    {
      "cell_type": "markdown",
      "metadata": {
        "id": "view-in-github"
      },
      "source": [
        "<a href=\"https://colab.research.google.com/github/michael-borck/weatherwise-template/blob/main/starter_notebook.ipynb\" target=\"_parent\"><img src=\"https://colab.research.google.com/assets/colab-badge.svg\" alt=\"Open In Colab\"/></a>"
      ],
      "id": "view-in-github"
    },
    {
      "cell_type": "markdown",
      "id": "72e78a05",
      "metadata": {
        "id": "72e78a05"
      },
      "source": [
        "\\# 🌦️ WeatherWise – Starter Notebook\n",
        "\n",
        "Welcome to your **WeatherWise** project notebook! This scaffold is designed to help you build your weather advisor app using Python, visualisations, and AI-enhanced development.\n",
        "\n",
        "---\n",
        "\n",
        "📄 **Full Assignment Specification**  \n",
        "See [`ASSIGNMENT.md`](ASSIGNMENT.md) or check the LMS for full details.\n",
        "\n",
        "📝 **Quick Refresher**  \n",
        "A one-page summary is available in [`resources/assignment-summary.md`](resources/assignment-summary.md).\n",
        "\n"
      ]
    },
    {
      "cell_type": "markdown",
      "id": "fa8c7f6c",
      "metadata": {
        "id": "fa8c7f6c"
      },
      "source": [
        "## 🧰 Setup and Imports\n",
        "\n",
        "This section imports commonly used packages and installs any additional tools used in the project.\n",
        "\n",
        "- You may not need all of these unless you're using specific features (e.g. visualisations, advanced prompting).\n",
        "- The notebook assumes the following packages are **pre-installed** in the provided environment or installable via pip:\n",
        "  - `requests`, `matplotlib`, `pyinputplus`\n",
        "  - `fetch-my-weather` (for accessing weather data easily)\n",
        "  - `hands-on-ai` (for AI logging, comparisons, or prompting tools)\n",
        "\n",
        "If you're running this notebook in **Google Colab**, uncomment the following lines to install the required packages.\n"
      ]
    },
    {
      "cell_type": "code",
      "execution_count": null,
      "id": "70c3f3f1",
      "metadata": {
        "id": "70c3f3f1"
      },
      "outputs": [],
      "source": [
        "# 🧪 Optional packages — uncomment if needed in Colab or JupyterHub\n",
        "!pip install fetch-my-weather\n",
        "!pip install hands-on-ai\n",
        "!pip install bs4\n",
        "!pip install requests\n",
        "!pip install matplotlib pyinputplus\n",
        "!pip install requests matplotlib\n"
      ]
    },
    {
      "cell_type": "code",
      "source": [
        "import os\n",
        "\n",
        "os.environ['HANDS_ON_AI_API_KEY'] = input('\"ab4d2c405ef31fc026b5b5d99741fd14\" ')\n"
      ],
      "metadata": {
        "id": "B2JKlJfrGgIb"
      },
      "id": "B2JKlJfrGgIb",
      "execution_count": null,
      "outputs": []
    },
    {
      "cell_type": "markdown",
      "id": "59ae7543",
      "metadata": {
        "id": "59ae7543"
      },
      "source": [
        "## 📦 Setup and Configuration\n",
        "Import required packages and setup environment."
      ]
    },
    {
      "cell_type": "code",
      "execution_count": null,
      "id": "f1dd051e",
      "metadata": {
        "id": "f1dd051e"
      },
      "outputs": [],
      "source": [
        "import requests\n",
        "import matplotlib.pyplot as plt\n",
        "import pyinputplus as pyip\n",
        "# ✅ Import after installing (if needed)\n",
        "from fetch_my_weather import get_weather\n",
        "from hands_on_ai.chat import get_response\n",
        "from datetime import datetime\n",
        "import sys\n",
        "\n",
        "\n",
        "# Set up the API key and base URLs for the OpenWeatherMap API\n",
        "API_KEY = \"ab4d2c405ef31fc026b5b5d99741fd14\"\n",
        "BASE_URL_CURRENT = \"https://api.openweathermap.org/data/2.5/weather\"  # Current weather endpoint\n",
        "BASE_URL_FORECAST = \"https://api.openweathermap.org/data/2.5/forecast\"  # 5-day forecast endpoint\n",
        "import os\n",
        "API_KEY = os.getenv(\"OPENWEATHER_API_KEY\")\n"
      ]
    },
    {
      "cell_type": "markdown",
      "id": "f736ade3",
      "metadata": {
        "id": "f736ade3"
      },
      "source": [
        "## 🌤️ Weather Data Functions"
      ]
    },
    {
      "cell_type": "code",
      "execution_count": null,
      "id": "7a2c7cd0",
      "metadata": {
        "id": "7a2c7cd0"
      },
      "outputs": [],
      "source": [
        "def get_weather(city, units=\"metric\"):\n",
        "    \"\"\"Fetch current weather data for a given city.\"\"\"\n",
        "    params = {\"q\": city, \"appid\": API_KEY, \"units\": units}  # Prepare API request parameters\n",
        "    try:\n",
        "        response = requests.get(BASE_URL_CURRENT, params=params, timeout=10)  # Make the GET request\n",
        "        response.raise_for_status()  # Raise an exception for bad HTTP responses (e.g., 404 or 500)\n",
        "        return response.json()  # Return the JSON data from the API\n",
        "    except requests.exceptions.RequestException as e:  # Catch errors related to requests\n",
        "        print(f\"Error: {e}\")\n",
        "        return None  # Return None if an error occurs\n"
      ]
    },
    {
      "cell_type": "markdown",
      "source": [
        "FORECAST FUNCTIONS"
      ],
      "metadata": {
        "id": "tg9-mMfw-ihu"
      },
      "id": "tg9-mMfw-ihu"
    },
    {
      "cell_type": "code",
      "source": [
        "def get_forecast(city, units=\"metric\"):\n",
        "    \"\"\"Fetch weather forecast for the next 5 days for a given city.\"\"\"\n",
        "    params = {\"q\": city, \"appid\": API_KEY, \"units\": units}  # Same params as above\n",
        "    try:\n",
        "        response = requests.get(BASE_URL_FORECAST, params=params, timeout=10)  # Make the GET request for forecast\n",
        "        response.raise_for_status()\n",
        "        return response.json()  # Return the forecast JSON data\n",
        "    except requests.exceptions.RequestException as e:  # Handle any errors during the request\n",
        "        print(f\"Error: {e}\")\n",
        "        return None  # Return None if an error occurs\n"
      ],
      "metadata": {
        "id": "Fcq-G9mX-5VD"
      },
      "id": "Fcq-G9mX-5VD",
      "execution_count": null,
      "outputs": []
    },
    {
      "cell_type": "markdown",
      "id": "8a744fdc",
      "metadata": {
        "id": "8a744fdc"
      },
      "source": [
        "## 📊 Visualisation Functions"
      ]
    },
    {
      "cell_type": "code",
      "execution_count": null,
      "id": "9dc3bf85",
      "metadata": {
        "id": "9dc3bf85"
      },
      "outputs": [],
      "source": [
        "# Define create_temperature_visualisation() and create_precipitation_visualisation() here\n",
        "def plot_temperature_trend(forecast_data):\n",
        "    \"\"\"Plot temperature trend for the next 5 days.\"\"\"\n",
        "    dates = []\n",
        "    temps = []\n",
        "    for entry in forecast_data['list']:  # Loop through forecast data entries\n",
        "        dates.append(datetime.fromtimestamp(entry['dt']))  # Convert timestamp to a datetime object\n",
        "        temps.append(entry['main']['temp'])  # Extract temperature for that time\n",
        "\n",
        "    plt.figure(figsize=(10, 5))  # Create a figure with a specified size\n",
        "    plt.plot(dates, temps, label='Temperature (°C)', marker='o')  # Plot the temperature trend\n",
        "    plt.title(\"Temperature Trend (Next 5 Days)\")  # Title for the plot\n",
        "    plt.xlabel(\"Date & Time\")  # X-axis label\n",
        "    plt.ylabel(\"Temperature (°C)\")  # Y-axis label\n",
        "    plt.xticks(rotation=45)  # Rotate x-axis labels for better readability\n",
        "    plt.grid(True)  # Display grid for easier reading of data\n",
        "    plt.tight_layout()  # Adjust layout to avoid clipping\n",
        "    plt.legend()  # Show legend for clarity\n",
        "    plt.show()  # Show the plot\n",
        "\n",
        "\n"
      ]
    },
    {
      "cell_type": "code",
      "source": [
        "\n",
        "# For precipitation chance\n",
        "def plot_precipitation_chance(forecast_data):\n",
        "    \"\"\"Plot precipitation chances for the next 5 days.\"\"\"\n",
        "    dates = []\n",
        "    rain = []\n",
        "    for entry in forecast_data['list']:  # Loop through forecast data entries\n",
        "        dates.append(datetime.fromtimestamp(entry['dt']))  # Convert timestamp to datetime\n",
        "        rain.append(entry.get('rain', {}).get('3h', 0))  # Get the rain volume (or 0 if no rain)\n",
        "\n",
        "    plt.figure(figsize=(10, 5))  # Set the figure size\n",
        "    plt.bar(dates, rain, label='Rain Volume (mm)', color='blue')  # Create a bar plot for rain volume\n",
        "    plt.title(\"Rain Forecast (Next 5 Days)\")  # Set the plot title\n",
        "    plt.xlabel(\"Date & Time\")  # X-axis label\n",
        "    plt.ylabel(\"Rain (mm)\")  # Y-axis label\n",
        "    plt.xticks(rotation=45)  # Rotate x-axis labels\n",
        "    plt.grid(True)  # Enable grid lines\n",
        "    plt.tight_layout()  # Adjust layout to fit everything\n",
        "    plt.legend()  # Add legend to the plot\n",
        "    plt.show()  # Display the plot"
      ],
      "metadata": {
        "id": "HpOlQylYG5Ho"
      },
      "id": "HpOlQylYG5Ho",
      "execution_count": null,
      "outputs": []
    },
    {
      "cell_type": "markdown",
      "id": "9f95d160",
      "metadata": {
        "id": "9f95d160"
      },
      "source": [
        "## 🤖 Natural Language Processing"
      ]
    },
    {
      "cell_type": "code",
      "execution_count": null,
      "id": "bcc5833e",
      "metadata": {
        "id": "bcc5833e"
      },
      "outputs": [],
      "source": [
        "# Define parse_weather_question() and generate_weather_response() here\n",
        "def parse_natural_language_query(query, city):\n",
        "    \"\"\"Parse natural language queries and provide weather-related answers.\"\"\"\n",
        "    query = query.lower()  # Convert query to lowercase for case-insensitive matching\n",
        "    if \"temperature\" in query or \"hot\" in query:\n",
        "        weather = get_weather(city)  # Fetch current weather\n",
        "        if weather:\n",
        "            print(f\"It is currently {weather['main']['temp']}°C with {weather['weather'][0]['description']}.\")\n",
        "    elif \"rain\" in query or \"precipitation\" in query:\n",
        "        forecast = get_forecast(city)  # Fetch forecast data\n",
        "        if forecast:\n",
        "            for entry in forecast['list'][:8]:  # Only look at the next 8 periods (24 hours)\n",
        "                rain = entry.get('rain', {}).get('3h', 0)  # Check for rain data (in mm)\n",
        "                time = datetime.fromtimestamp(entry['dt']).strftime(\"%a %H:%M\")  # Format time nicely\n",
        "                print(f\"⏰ {time}: 🌧️ {rain} mm rain expected\")\n",
        "    else:\n",
        "        print(\"I didn't understand your question. Try asking about temperature or rain.\")\n"
      ]
    },
    {
      "cell_type": "markdown",
      "id": "0d85225e",
      "metadata": {
        "id": "0d85225e"
      },
      "source": [
        "## 🧭 User Interface"
      ]
    },
    {
      "cell_type": "code",
      "execution_count": null,
      "id": "fa6cb0f6",
      "metadata": {
        "id": "fa6cb0f6"
      },
      "outputs": [],
      "source": [
        "# Define menu functions using pyinputplus or ipywidgets here\n",
        "def main_menu():\n",
        "    \"\"\"Display the main menu and handle user input.\"\"\"\n",
        "    print(\"🌦️ Welcome to the Weather Assistant 🌦️\")  # Welcome message\n",
        "    city = pyip.inputStr(prompt=\"Enter city name: \")  # Ask for city name using pyinputplus for input validation\n",
        "    while True:  # Infinite loop to keep the menu active until the user exits\n",
        "        print(\"\\nMain Menu:\")  # Display the main menu options\n",
        "        choice = pyip.inputMenu(\n",
        "            [\"Current Weather\", \"5-Day Forecast Chart\", \"Ask a Question\", \"Exit\"],  # Menu options\n",
        "            numbered=True  # Display options with numbers\n",
        "        )\n",
        "\n",
        "        if choice == \"Current Weather\":\n",
        "            data = get_weather(city)  # Fetch current weather data\n",
        "            display_current_weather(data)  # Display the weather\n",
        "        elif choice == \"5-Day Forecast Chart\":\n",
        "            forecast_data = get_forecast(city)  # Fetch weather forecast data\n",
        "            if forecast_data:\n",
        "                plot_temperature_trend(forecast_data)  # Plot temperature trend\n",
        "                plot_precipitation_chance(forecast_data)  # Plot precipitation chances\n",
        "        elif choice == \"Ask a Question\":\n",
        "            query = pyip.inputStr(prompt=\"Ask a weather question: \")  # Ask the user for a question\n",
        "            parse_natural_language_query(query, city)  # Parse the query and provide an answer\n",
        "        elif choice == \"Exit\":\n",
        "            print(\"Goodbye!\")  # Print goodbye message and exit\n",
        "        break # Terminate the program\n"
      ]
    },
    {
      "cell_type": "markdown",
      "id": "d643a53c",
      "metadata": {
        "id": "d643a53c"
      },
      "source": [
        "## 🧩 Main Application Logic"
      ]
    },
    {
      "cell_type": "code",
      "execution_count": null,
      "id": "a9e2e805",
      "metadata": {
        "id": "a9e2e805"
      },
      "outputs": [],
      "source": [
        "if __name__ == \"__main__\":\n",
        "    main_menu()  # Start the main menu when the script is run\n"
      ]
    },
    {
      "cell_type": "markdown",
      "id": "fde44479",
      "metadata": {
        "id": "fde44479"
      },
      "source": [
        "## 🧪 Testing and Examples"
      ]
    },
    {
      "cell_type": "code",
      "source": [
        "!pip install matplotlib pyinputplus  # The code is always asking to install this module"
      ],
      "metadata": {
        "colab": {
          "base_uri": "https://localhost:8080/"
        },
        "id": "SPaawDJ2MMQV",
        "outputId": "9ee6afd6-4a38-4585-8c52-5dc7d5271ec9"
      },
      "id": "SPaawDJ2MMQV",
      "execution_count": 5,
      "outputs": [
        {
          "output_type": "stream",
          "name": "stdout",
          "text": [
            "Requirement already satisfied: matplotlib in /usr/local/lib/python3.11/dist-packages (3.10.0)\n",
            "Collecting pyinputplus\n",
            "  Downloading PyInputPlus-0.2.12.tar.gz (20 kB)\n",
            "  Installing build dependencies ... \u001b[?25l\u001b[?25hdone\n",
            "  Getting requirements to build wheel ... \u001b[?25l\u001b[?25hdone\n",
            "  Preparing metadata (pyproject.toml) ... \u001b[?25l\u001b[?25hdone\n",
            "Requirement already satisfied: contourpy>=1.0.1 in /usr/local/lib/python3.11/dist-packages (from matplotlib) (1.3.2)\n",
            "Requirement already satisfied: cycler>=0.10 in /usr/local/lib/python3.11/dist-packages (from matplotlib) (0.12.1)\n",
            "Requirement already satisfied: fonttools>=4.22.0 in /usr/local/lib/python3.11/dist-packages (from matplotlib) (4.58.0)\n",
            "Requirement already satisfied: kiwisolver>=1.3.1 in /usr/local/lib/python3.11/dist-packages (from matplotlib) (1.4.8)\n",
            "Requirement already satisfied: numpy>=1.23 in /usr/local/lib/python3.11/dist-packages (from matplotlib) (2.0.2)\n",
            "Requirement already satisfied: packaging>=20.0 in /usr/local/lib/python3.11/dist-packages (from matplotlib) (24.2)\n",
            "Requirement already satisfied: pillow>=8 in /usr/local/lib/python3.11/dist-packages (from matplotlib) (11.2.1)\n",
            "Requirement already satisfied: pyparsing>=2.3.1 in /usr/local/lib/python3.11/dist-packages (from matplotlib) (3.2.3)\n",
            "Requirement already satisfied: python-dateutil>=2.7 in /usr/local/lib/python3.11/dist-packages (from matplotlib) (2.9.0.post0)\n",
            "Collecting pysimplevalidate>=0.2.7 (from pyinputplus)\n",
            "  Downloading PySimpleValidate-0.2.12.tar.gz (22 kB)\n",
            "  Installing build dependencies ... \u001b[?25l\u001b[?25hdone\n",
            "  Getting requirements to build wheel ... \u001b[?25l\u001b[?25hdone\n",
            "  Preparing metadata (pyproject.toml) ... \u001b[?25l\u001b[?25hdone\n",
            "Collecting stdiomask>=0.0.3 (from pyinputplus)\n",
            "  Downloading stdiomask-0.0.6.tar.gz (3.6 kB)\n",
            "  Installing build dependencies ... \u001b[?25l\u001b[?25hdone\n",
            "  Getting requirements to build wheel ... \u001b[?25l\u001b[?25hdone\n",
            "  Preparing metadata (pyproject.toml) ... \u001b[?25l\u001b[?25hdone\n",
            "Requirement already satisfied: six>=1.5 in /usr/local/lib/python3.11/dist-packages (from python-dateutil>=2.7->matplotlib) (1.17.0)\n",
            "Building wheels for collected packages: pyinputplus, pysimplevalidate, stdiomask\n",
            "  Building wheel for pyinputplus (pyproject.toml) ... \u001b[?25l\u001b[?25hdone\n",
            "  Created wheel for pyinputplus: filename=pyinputplus-0.2.12-py3-none-any.whl size=11348 sha256=006f0becc224a70afa64adb8227197d9988dea85ef0f5fd8477618ac1f1b6a5d\n",
            "  Stored in directory: /root/.cache/pip/wheels/a3/6b/89/3bec14288af8e0729d088fb41a785e583d49e772f2529c7676\n",
            "  Building wheel for pysimplevalidate (pyproject.toml) ... \u001b[?25l\u001b[?25hdone\n",
            "  Created wheel for pysimplevalidate: filename=pysimplevalidate-0.2.12-py3-none-any.whl size=16226 sha256=75fe2b351b0770b45a1d49f91018a0bd0f1d4740deb37460b77d9858fcaa2aaa\n",
            "  Stored in directory: /root/.cache/pip/wheels/fc/40/7a/4d3b2dc2e80b4b3bbda89eec94fcefd6c8bd1101cc7bb89554\n",
            "  Building wheel for stdiomask (pyproject.toml) ... \u001b[?25l\u001b[?25hdone\n",
            "  Created wheel for stdiomask: filename=stdiomask-0.0.6-py3-none-any.whl size=3356 sha256=52623658f0e8871e7862596489186f39c75e5771ca42b5073c5a09600cf550e2\n",
            "  Stored in directory: /root/.cache/pip/wheels/19/0c/90/5ee0da7cf06ff7e233f273063797785d5eabf0ab9f04220866\n",
            "Successfully built pyinputplus pysimplevalidate stdiomask\n",
            "Installing collected packages: stdiomask, pysimplevalidate, pyinputplus\n",
            "Successfully installed pyinputplus-0.2.12 pysimplevalidate-0.2.12 stdiomask-0.0.6\n"
          ]
        }
      ]
    },
    {
      "cell_type": "code",
      "source": [
        "import requests\n",
        "import pyinputplus as pyip\n",
        "import matplotlib.pyplot as plt\n",
        "import logging\n",
        "from datetime import datetime\n",
        "import sys\n",
        "import os\n",
        "\n",
        "# Setup logging\n",
        "logging.basicConfig(level=logging.INFO, format='%(asctime)s - %(levelname)s - %(message)s')\n",
        "\n",
        "# Load API key - Directly use the API key string\n",
        "# Removed the file path check and file reading\n",
        "API_KEY = '148e8cfafb2e24494693f49edb7e2296'\n",
        "\n",
        "# Check if the API key is empty\n",
        "if not API_KEY:\n",
        "    print(\"API key is empty. Please provide a valid API key.\")\n",
        "    sys.exit(1)\n",
        "\n",
        "BASE_URL_CURRENT = \"https://api.openweathermap.org/data/2.5/weather\"\n",
        "BASE_URL_FORECAST = \"https://api.openweathermap.org/data/2.5/forecast\"\n",
        "\n",
        "def get_weather(city, units=\"metric\"):\n",
        "    params = {\"q\": city, \"appid\": API_KEY, \"units\": units}\n",
        "    try:\n",
        "        response = requests.get(BASE_URL_CURRENT, params=params, timeout=10)\n",
        "        response.raise_for_status()\n",
        "        data = response.json()\n",
        "        if data.get(\"cod\") != 200: # Note: API returns 200 for success, not a string \"200\"\n",
        "            print(f\"Error: {data.get('message', 'Unknown error')}\")\n",
        "            return None\n",
        "        return data\n",
        "    except requests.exceptions.RequestException as e:\n",
        "        logging.error(f\"Weather request failed: {e}\")\n",
        "        return None\n",
        "\n",
        "def get_forecast(city, units=\"metric\"):\n",
        "    params = {\"q\": city, \"appid\": API_KEY, \"units\": units}\n",
        "    try:\n",
        "        response = requests.get(BASE_URL_FORECAST, params=params, timeout=10)\n",
        "        response.raise_for_status()\n",
        "        data = response.json()\n",
        "        if data.get(\"cod\") != \"200\":\n",
        "            print(f\"Error: {data.get('message', 'Unknown error')}\")\n",
        "            return None\n",
        "        return data\n",
        "    except requests.exceptions.RequestException as e:\n",
        "        logging.error(f\"Forecast request failed: {e}\")\n",
        "        return None\n",
        "\n",
        "def display_current_weather(data, units=\"metric\"):\n",
        "    if not data:\n",
        "        print(\"No data to display.\")\n",
        "        return\n",
        "    name = data.get('name')\n",
        "    country = data['sys'].get('country', 'N/A')\n",
        "    temp = data['main'].get('temp', 'N/A')\n",
        "    condition = data['weather'][0].get('description', 'N/A').title()\n",
        "    temp_unit = '°C' if units == 'metric' else '°F' if units == 'imperial' else 'K'\n",
        "    print(f\"\\n📍 {name}, {country}\")\n",
        "    print(f\"🌡️  Temperature: {temp}{temp_unit}\")\n",
        "    print(f\"🌤️  Conditions: {condition}\")\n",
        "    print(f\"💧 Humidity: {data['main'].get('humidity')}%\")\n",
        "    print(f\"💨 Wind: {data['wind'].get('speed')} m/s\")\n",
        "\n",
        "def plot_temperature_trend(forecast_data, units=\"metric\"):\n",
        "    dates = []\n",
        "    temps = []\n",
        "    # Add check for 'list' key\n",
        "    if 'list' not in forecast_data or not forecast_data['list']:\n",
        "        print(\"No forecast entries found for plotting temperature.\")\n",
        "        return\n",
        "    for entry in forecast_data['list']:\n",
        "        dates.append(datetime.fromtimestamp(entry['dt']))\n",
        "        temps.append(entry['main']['temp'])\n",
        "\n",
        "    plt.figure(figsize=(10, 5))\n",
        "    plt.plot(dates, temps, label='Temperature', marker='o')\n",
        "    plt.title(\"Temperature Trend (Next 5 Days)\")\n",
        "    plt.xlabel(\"Date & Time\")\n",
        "    plt.ylabel(f\"Temperature ({'°C' if units == 'metric' else '°F'})\")\n",
        "    plt.xticks(rotation=45)\n",
        "    plt.grid(True)\n",
        "    plt.tight_layout()\n",
        "    plt.legend()\n",
        "    plt.show()\n",
        "\n",
        "def plot_precipitation_chance(forecast_data):\n",
        "    dates = []\n",
        "    rain = []\n",
        "    # Add check for 'list' key\n",
        "    if 'list' not in forecast_data or not forecast_data['list']:\n",
        "        print(\"No forecast entries found for plotting precipitation.\")\n",
        "        return\n",
        "    for entry in forecast_data['list']:\n",
        "        dates.append(datetime.fromtimestamp(entry['dt']))\n",
        "        rain.append(entry.get('rain', {}).get('3h', 0))\n",
        "\n",
        "    plt.figure(figsize=(10, 5))\n",
        "    plt.bar(dates, rain, label='Rain Volume (mm)', color='blue')\n",
        "    plt.title(\"Rain Forecast (Next 5 Days)\")\n",
        "    plt.xlabel(\"Date & Time\")\n",
        "    plt.ylabel(\"Rain (mm)\")\n",
        "    plt.xticks(rotation=45)\n",
        "    plt.grid(True)\n",
        "    plt.tight_layout()\n",
        "    plt.legend()\n",
        "    plt.show()\n",
        "\n",
        "def parse_natural_language_query(query, city, units=\"metric\"):\n",
        "    query = query.lower()\n",
        "    if \"temperature\" in query or \"hot\" in query:\n",
        "        weather = get_weather(city, units)\n",
        "        if weather:\n",
        "            print(f\"It is currently {weather['main']['temp']}° with {weather['weather'][0]['description']}.\")\n",
        "    elif \"rain\" in query or \"precipitation\" in query:\n",
        "        forecast = get_forecast(city, units)\n",
        "        if forecast:\n",
        "            print(\"🌧️ Rain forecast (next 24h):\")\n",
        "            # Add check for 'list' key before slicing\n",
        "            if 'list' in forecast:\n",
        "                for entry in forecast['list'][:8]:\n",
        "                    rain = entry.get('rain', {}).get('3h', 0)\n",
        "                    time = datetime.fromtimestamp(entry['dt']).strftime(\"%a %H:%M\")\n",
        "                    print(f\"⏰ {time}: 🌧️ {rain} mm\")\n",
        "            else:\n",
        "                print(\"No forecast data available.\")\n",
        "    else:\n",
        "        print(\"I didn't understand your question. Try asking about temperature or rain.\")\n",
        "\n",
        "def choose_units():\n",
        "    unit_choice = pyip.inputMenu([\"Metric (°C, m/s)\", \"Imperial (°F, mph)\", \"Standard (K, m/s)\"],\n",
        "                                 prompt=\"Choose temperature units:\\n\", numbered=True)\n",
        "    return {\"Metric (°C, m/s)\": \"metric\", \"Imperial (°F, mph)\": \"imperial\", \"Standard (K, m/s)\": \"standard\"}[unit_choice]\n",
        "\n",
        "def main_menu():\n",
        "    print(\"\\n\" + \"=\"*40)\n",
        "    print(\"🌦️  WELCOME TO MY WEATHER ASSISTANT 🌦️\")\n",
        "    print(\"=\"*40)\n",
        "    city = pyip.inputStr(prompt=\"📍 Enter city name: \")\n",
        "    units = choose_units()\n",
        "\n",
        "    while True:\n",
        "        print(\"\\n📋 MAIN MENU\")\n",
        "        print(\"-\" * 20)\n",
        "        choice = pyip.inputMenu(\n",
        "            [\"📊 Current Weather\", \"📈 5-Day Forecast Chart\", \"💬 Ask a Question\",\n",
        "             \"🏙️ Change City\", \"⚙️ Change Units\", \"❌ Exit\"],\n",
        "            numbered=True\n",
        "        )\n",
        "\n",
        "        if choice.startswith(\"📊\"):\n",
        "            data = get_weather(city, units)\n",
        "            display_current_weather(data, units)\n",
        "        elif choice.startswith(\"📈\"):\n",
        "            forecast_data = get_forecast(city, units)\n",
        "            if forecast_data:\n",
        "                plot_temperature_trend(forecast_data, units)\n",
        "                plot_precipitation_chance(forecast_data)\n",
        "        elif choice.startswith(\"💬\"):\n",
        "            query = pyip.inputStr(prompt=\"🧠 Ask your weather question: \")\n",
        "            parse_natural_language_query(query, city, units)\n",
        "        elif choice.startswith(\"🏙️\"):\n",
        "            city = pyip.inputStr(prompt=\"🌍 Enter new city: \")\n",
        "        elif choice.startswith(\"⚙️\"):\n",
        "            units = choose_units()\n",
        "        elif choice.startswith(\"❌\"):\n",
        "            print(\"\\n👋 Thanks for using the Weather Assistant. Stay safe!\")\n",
        "\n",
        "        break\n",
        "\n",
        "if __name__ == \"__main__\":\n",
        "    main_menu()"
      ],
      "metadata": {
        "colab": {
          "base_uri": "https://localhost:8080/",
          "height": 1000
        },
        "id": "nbQ-sIuXMFVv",
        "outputId": "fe793f16-25c1-4c28-e626-dd0ae754333d"
      },
      "id": "nbQ-sIuXMFVv",
      "execution_count": 7,
      "outputs": [
        {
          "name": "stdout",
          "output_type": "stream",
          "text": [
            "\n",
            "========================================\n",
            "🌦️  WELCOME TO MY WEATHER ASSISTANT 🌦️\n",
            "========================================\n",
            "📍 Enter city name: Malta \n",
            "Choose temperature units:\n",
            "1. Metric (°C, m/s)\n",
            "2. Imperial (°F, mph)\n",
            "3. Standard (K, m/s)\n",
            "1\n",
            "\n",
            "📋 MAIN MENU\n",
            "--------------------\n",
            "Please select one of the following:\n",
            "1. 📊 Current Weather\n",
            "2. 📈 5-Day Forecast Chart\n",
            "3. 💬 Ask a Question\n",
            "4. 🏙️ Change City\n",
            "5. ⚙️ Change Units\n",
            "6. ❌ Exit\n",
            "2\n"
          ]
        },
        {
          "output_type": "display_data",
          "data": {
            "text/plain": [
              "<Figure size 1000x500 with 1 Axes>"
            ],
            "image/png": "[encoded data removed]"
          },
          "metadata": {}
        },
        {
          "output_type": "display_data",
          "data": {
            "text/plain": [
              "<Figure size 1000x500 with 1 Axes>"
            ],
            "image/png": "[encoded data removed]"
          },
          "metadata": {}
        }
      ]
    },
    {
      "cell_type": "markdown",
      "id": "d2885880",
      "metadata": {
        "id": "d2885880"
      },
      "source": [
        "## 🗂️ AI Prompting Log (Optional)\n",
        "Add markdown cells here summarising prompts used or link to AI conversations in the `ai-conversations/` folder."
      ]
    }
  ],
  "metadata": {
    "language_info": {
      "name": "python"
    },
    "colab": {
      "provenance": []
    },
    "kernelspec": {
      "name": "python3",
      "display_name": "Python 3"
    }
  },
  "nbformat": 4,
  "nbformat_minor": 5
}